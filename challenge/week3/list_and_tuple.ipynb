{
 "cells": [
  {
   "cell_type": "code",
   "execution_count": 6,
   "id": "0fb9d5ee",
   "metadata": {},
   "outputs": [
    {
     "name": "stdout",
     "output_type": "stream",
     "text": [
      "Enter 1st number:50\n",
      "Enter 2nd number:40\n",
      "Enter 3rd number:90\n",
      "Enter 4th number:10\n",
      "Enter 5th number:30\n",
      "max:  90\n",
      "min:  10\n",
      "average:  44.0\n"
     ]
    }
   ],
   "source": [
    "num_list = [] #리스트 생성\n",
    "num_list.append(int(input(\"Enter 1st number:\" ))) \n",
    "num_list.append(int(input(\"Enter 2nd number:\" )))\n",
    "num_list.append(int(input(\"Enter 3rd number:\" )))\n",
    "num_list.append(int(input(\"Enter 4th number:\" )))\n",
    "num_list.append(int(input(\"Enter 5th number:\" ))) #입력 받음\n",
    "print(\"max: \",max(num_list)) #최댓값 출력\n",
    "print(\"min: \",min(num_list)) #최솟값 출력\n",
    "print(\"average: \",sum(num_list)/len(num_list)) #평균 출력"
   ]
  },
  {
   "cell_type": "code",
   "execution_count": 8,
   "id": "4537c023",
   "metadata": {},
   "outputs": [
    {
     "name": "stdout",
     "output_type": "stream",
     "text": [
      "What is your favorite singer? Oh My Girl\n",
      "['BTS', 'Black Pink', 'Oh My Girl']\n"
     ]
    }
   ],
   "source": [
    "singer_list = ['BTS','Black Pink'] # 리스트 생성\n",
    "singer_list.append(input(\"What is your favorite singer? \")) #입력 받고 추가\n",
    "singer_list.sort() #리스트 정렬\n",
    "print(singer_list) #리스트 출력"
   ]
  },
  {
   "cell_type": "code",
   "execution_count": 12,
   "id": "228dc11d",
   "metadata": {},
   "outputs": [
    {
     "name": "stdout",
     "output_type": "stream",
     "text": [
      "('tennis', 'football', 'basball', 'basketball', 'golf')\n",
      "Please enter one of the sport name from above: golf\n",
      "golf has index number:  4\n",
      "Enter a number between 0 and 4: 2\n",
      "basball\n"
     ]
    }
   ],
   "source": [
    "sports_names = 'tennis','football','basball','basketball','golf' #튜플 생성\n",
    "print(sports_names) #튜플 출력\n",
    "user_input_sport = input(\"Please enter one of the sport name from above: \") #스포츠 이름 입력 받음\n",
    "print(f\"{user_input_sport} has index number: \", sports_names.index(user_input_sport))#입력받은 스포츠 출력 후 인덱스 값 출력\n",
    "user_input_num = int(input(\"Enter a number between 0 and 4: \"))# 숫자 입력 받음\n",
    "print(sports_names[user_input_num])#입력받은 숫자에 할당된 스포츠 출력"
   ]
  },
  {
   "cell_type": "code",
   "execution_count": 3,
   "id": "7f2055c6",
   "metadata": {},
   "outputs": [
    {
     "name": "stdout",
     "output_type": "stream",
     "text": [
      "menu:  ('Americano', 'Caffe Latte', 'Cafe Mocha', 'Iced Tea')\n",
      "enter the 1st item sold yesterday: Americano\n",
      "enter the 2nd item sold yesterday: Americano\n",
      "enter the 3rd item sold yesterday: Americano\n",
      "enter the 4th item sold yesterday: Americano\n",
      "enter the 5th item sold yesterday: Americano\n",
      "enter the 1st item sold today: Americano\n",
      "enter the 2nd item sold today: Americano\n",
      "enter the 3rd item sold today: Americano\n",
      "enter the 4th item sold today: Americano\n",
      "enter the 5th item sold today: Americano\n",
      "Yesterday sales: ('Americano', 'Americano', 'Americano', 'Americano', 'Americano')\n",
      "Today sales: ('Americano', 'Americano', 'Americano', 'Americano', 'Americano')\n",
      "Total_sales: ('Americano', 'Americano', 'Americano', 'Americano', 'Americano', 'Americano', 'Americano', 'Americano', 'Americano', 'Americano')\n",
      "Americano sales:  10\n"
     ]
    }
   ],
   "source": [
    "Menu = 'Americano','Caffe Latte',\"Cafe Mocha\",\"Iced Tea\"\n",
    "print('menu: ',Menu)\n",
    "yesterday_1 = input(\"enter the 1st item sold yesterday: \")\n",
    "yesterday_2 = input(\"enter the 2nd item sold yesterday: \")\n",
    "yesterday_3 = input(\"enter the 3rd item sold yesterday: \")\n",
    "yesterday_4 = input(\"enter the 4th item sold yesterday: \")\n",
    "yesterday_5 = input(\"enter the 5th item sold yesterday: \")\n",
    "today_1 = input(\"enter the 1st item sold today: \")\n",
    "today_2 = input(\"enter the 2nd item sold today: \")\n",
    "today_3 = input(\"enter the 3rd item sold today: \")\n",
    "today_4 = input(\"enter the 4th item sold today: \")\n",
    "today_5 = input(\"enter the 5th item sold today: \")\n",
    "yesterday_sales = yesterday_1,yesterday_2,yesterday_3,yesterday_4,yesterday_5\n",
    "today_sales = today_1,today_2,today_3,today_4,today_5\n",
    "total_sales = yesterday_sales+today_sales\n",
    "print(\"Yesterday sales:\",yesterday_sales)\n",
    "print(\"Today sales:\",today_sales)\n",
    "print(\"Total_sales:\",total_sales)\n",
    "print(\"Americano sales: \", total_sales.count('Americano'))"
   ]
  },
  {
   "cell_type": "code",
   "execution_count": null,
   "id": "ade05906",
   "metadata": {},
   "outputs": [],
   "source": []
  }
 ],
 "metadata": {
  "kernelspec": {
   "display_name": "Python 3 (ipykernel)",
   "language": "python",
   "name": "python3"
  },
  "language_info": {
   "codemirror_mode": {
    "name": "ipython",
    "version": 3
   },
   "file_extension": ".py",
   "mimetype": "text/x-python",
   "name": "python",
   "nbconvert_exporter": "python",
   "pygments_lexer": "ipython3",
   "version": "3.10.9"
  }
 },
 "nbformat": 4,
 "nbformat_minor": 5
}
