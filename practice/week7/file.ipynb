{
 "cells": [
  {
   "cell_type": "code",
   "execution_count": 14,
   "id": "34c40f2c",
   "metadata": {},
   "outputs": [
    {
     "name": "stdout",
     "output_type": "stream",
     "text": [
      "1. 암호화, 2. 복호화 중 선택하세요: 1\n",
      "입력 파일 이름을 입력하세요: test.txt\n",
      "출력 파일 이름을 입력하세요: data.txt\n",
      "test.txt --> data.txt Finish to transform\n"
     ]
    }
   ],
   "source": [
    "choice = int(input(\"1. 암호화, 2. 복호화 중 선택하세요: \")) //암호화, 복호화 중 선택함\n",
    "in_filename = input(\"입력 파일 이름을 입력하세요: \") //입력 파일 이름 입력\n",
    "out_filename = input(\"출력 파일 이름을 입력하세요: \")//출력 파일 이름 입력\n",
    "token_jump = 0\n",
    "//위의 입력에 따라 token_jump 값이 바뀜\n",
    "if choice == 1:\n",
    "    token_jump = 100\n",
    "elif choice == 2:\n",
    "    token_jump == -100\n",
    "    \n",
    "in_fp = open(in_filename, \"r\", encoding=\"utf8\") // 읽기 모드로 열기\n",
    "out_fp = open(out_filename, \"w\", encoding=\"utf8\")// 쓰기 모드로 열기\n",
    "\n",
    "in_lines = in_fp.readlines()\n",
    "// out_str에 암호화 또는 복호화 된 값 저장하고 씀\n",
    "for in_line in in_lines:\n",
    "    out_str = \"\"\n",
    "    for i in range(len(in_line)):\n",
    "        ch = in_line[i]\n",
    "        ch_num = ord(ch)\n",
    "        ch_num = ch_num + token_jump\n",
    "        ch2 = chr(ch_num)\n",
    "        out_str = out_str + ch2\n",
    "    \n",
    "    out_fp.write(out_str)\n",
    "    \n",
    "out_fp.close()\n",
    "in_fp.close()\n",
    "print(\"%s --> %s Finish to transform\"%(in_filename, out_filename))"
   ]
  }
 ],
 "metadata": {
  "kernelspec": {
   "display_name": "Python 3 (ipykernel)",
   "language": "python",
   "name": "python3"
  },
  "language_info": {
   "codemirror_mode": {
    "name": "ipython",
    "version": 3
   },
   "file_extension": ".py",
   "mimetype": "text/x-python",
   "name": "python",
   "nbconvert_exporter": "python",
   "pygments_lexer": "ipython3",
   "version": "3.10.9"
  }
 },
 "nbformat": 4,
 "nbformat_minor": 5
}
