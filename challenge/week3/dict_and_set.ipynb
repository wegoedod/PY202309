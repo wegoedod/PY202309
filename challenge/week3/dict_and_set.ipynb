{
 "cells": [
  {
   "cell_type": "code",
   "execution_count": 1,
   "id": "261cf1fd",
   "metadata": {},
   "outputs": [
    {
     "name": "stdout",
     "output_type": "stream",
     "text": [
      "Enter English number ranging from 1 to 5: three\n",
      "three is 삼\n"
     ]
    }
   ],
   "source": [
    "num = {\"one\":\"일\",\"two\":\"이\",\"three\":\"삼\",\"four\":\"사\",\"five\":\"오\"} #set 만듬\n",
    "num_input = input(\"Enter English number ranging from 1 to 5: \") #사용자가 입력한 값을 변수에 저장\n",
    "print(f\"{num_input} is {num[num_input]}\") #사용자가 입력한 변수와 그 변수를 key로 갖는 value 출력"
   ]
  },
  {
   "cell_type": "code",
   "execution_count": 5,
   "id": "140529df",
   "metadata": {},
   "outputs": [
    {
     "name": "stdout",
     "output_type": "stream",
     "text": [
      "Name: {'Misoo': 4, 'Kwon': 3, 'Soo': 5} / average: 4.0\n",
      "Name: {'Misoo': 3, 'David': 4, 'Soo': 4} / average: 3.6666666666666665\n",
      "Name: {'Kwon': 3, 'Bob': 3, 'David': 4} / average: 3.3333333333333335\n"
     ]
    }
   ],
   "source": [
    "ratings = {\"Moving\":{\"Misoo\":4,\"Kwon\":3,\"Soo\":5},\n",
    "           \"Mask Girl\":{\"Misoo\":3,\"David\":4,\"Soo\":4},\n",
    "          \"Oppenheimer\":{\"Kwon\":3,\"Bob\":3,\"David\":4}} #dictionary 만듬\n",
    "for name in ratings.values(): #for문으로 value 불러옴\n",
    "    avg = 0\n",
    "    for score in name.values():#for문으로 내부 value 불러옴\n",
    "        avg += score\n",
    "    avg = avg/len(name)\n",
    "    print(f\"Name: {name} / average: {avg}\")"
   ]
  },
  {
   "cell_type": "code",
   "execution_count": 7,
   "id": "1f055aa8",
   "metadata": {},
   "outputs": [
    {
     "name": "stdout",
     "output_type": "stream",
     "text": [
      "Enter user1's 1st friend name: 철수\n",
      "Enter user1's 2nd friend name: 영수\n",
      "Enter user1's 3rd friend name: 영희\n",
      "Enter user2's 1st friend name: 철희\n",
      "Enter user2's 2nd friend name: 영수\n",
      "Enter user2's 3rd friend name: 동수\n",
      "All friends:  {'철수', '동수', '철희', '영수', '영희'}\n"
     ]
    }
   ],
   "source": [
    "friends_set_1 = set() #friends_set_1 생성\n",
    "friends_set_2 = set() #friends_set_2 생성\n",
    "\n",
    "friends_set_1.add(input(\"Enter user1's 1st friend name: \"))\n",
    "friends_set_1.add(input(\"Enter user1's 2nd friend name: \"))\n",
    "friends_set_1.add(input(\"Enter user1's 3rd friend name: \"))#입력을 set_1에 저장\n",
    "friends_set_2.add(input(\"Enter user2's 1st friend name: \"))\n",
    "friends_set_2.add(input(\"Enter user2's 2nd friend name: \"))\n",
    "friends_set_2.add(input(\"Enter user2's 3rd friend name: \")) #입력을 set_2에 저장\n",
    "\n",
    "print(\"All friends: \", friends_set_1|friends_set_2) #set_1과 set_2의 값을 겹치지 않게 출력"
   ]
  },
  {
   "cell_type": "code",
   "execution_count": null,
   "id": "784bb6c6",
   "metadata": {},
   "outputs": [],
   "source": []
  }
 ],
 "metadata": {
  "kernelspec": {
   "display_name": "Python 3 (ipykernel)",
   "language": "python",
   "name": "python3"
  },
  "language_info": {
   "codemirror_mode": {
    "name": "ipython",
    "version": 3
   },
   "file_extension": ".py",
   "mimetype": "text/x-python",
   "name": "python",
   "nbconvert_exporter": "python",
   "pygments_lexer": "ipython3",
   "version": "3.10.9"
  }
 },
 "nbformat": 4,
 "nbformat_minor": 5
}
