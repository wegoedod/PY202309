{
 "cells": [
  {
   "cell_type": "code",
   "execution_count": 3,
   "id": "54178a57",
   "metadata": {},
   "outputs": [
    {
     "name": "stdout",
     "output_type": "stream",
     "text": [
      "#     2    ##     3    ##     4    ##     5    ##     6    ##     7    ##     8    ##     9    #\n",
      " 2 X 21 =  2 3 X 21 =  3 4 X 21 =  4 5 X 21 =  5 6 X 21 =  6 7 X 21 =  7 8 X 21 =  8 9 X 21 =  9\n",
      " 2 X 22 =  4 3 X 22 =  6 4 X 22 =  8 5 X 22 = 10 6 X 22 = 12 7 X 22 = 14 8 X 22 = 16 9 X 22 = 18\n",
      " 2 X 23 =  6 3 X 23 =  9 4 X 23 = 12 5 X 23 = 15 6 X 23 = 18 7 X 23 = 21 8 X 23 = 24 9 X 23 = 27\n",
      " 2 X 24 =  8 3 X 24 = 12 4 X 24 = 16 5 X 24 = 20 6 X 24 = 24 7 X 24 = 28 8 X 24 = 32 9 X 24 = 36\n",
      " 2 X 25 = 10 3 X 25 = 15 4 X 25 = 20 5 X 25 = 25 6 X 25 = 30 7 X 25 = 35 8 X 25 = 40 9 X 25 = 45\n",
      " 2 X 26 = 12 3 X 26 = 18 4 X 26 = 24 5 X 26 = 30 6 X 26 = 36 7 X 26 = 42 8 X 26 = 48 9 X 26 = 54\n",
      " 2 X 27 = 14 3 X 27 = 21 4 X 27 = 28 5 X 27 = 35 6 X 27 = 42 7 X 27 = 49 8 X 27 = 56 9 X 27 = 63\n",
      " 2 X 28 = 16 3 X 28 = 24 4 X 28 = 32 5 X 28 = 40 6 X 28 = 48 7 X 28 = 56 8 X 28 = 64 9 X 28 = 72\n",
      " 2 X 29 = 18 3 X 29 = 27 4 X 29 = 36 5 X 29 = 45 6 X 29 = 54 7 X 29 = 63 8 X 29 = 72 9 X 29 = 81\n"
     ]
    }
   ],
   "source": [
    "guguLine = \"\" #변수 guguLine 생성\n",
    "for i in range(2,10): #i가 2~9까지 반복\n",
    "    guguLine = guguLine + (\"#     %d    #\"%i)#guguLine에 i가 포함된 문자열 더함 \n",
    "    \n",
    "print(guguLine)#guguLine 출력\n",
    "\n",
    "for i in range(1,10):#i가 1~9까지 반복\n",
    "    guguLine=\"\" #guguLine 초기화\n",
    "    for k in range(2,10):#k가 2~9까지 반복\n",
    "        guguLine = guguLine+(\"%2d X 2%d = %2d\"%(k,i,k*i))\n",
    "    print(guguLine)#guguLine 출력"
   ]
  },
  {
   "cell_type": "code",
   "execution_count": null,
   "id": "91d8408e",
   "metadata": {},
   "outputs": [],
   "source": []
  }
 ],
 "metadata": {
  "kernelspec": {
   "display_name": "Python 3 (ipykernel)",
   "language": "python",
   "name": "python3"
  },
  "language_info": {
   "codemirror_mode": {
    "name": "ipython",
    "version": 3
   },
   "file_extension": ".py",
   "mimetype": "text/x-python",
   "name": "python",
   "nbconvert_exporter": "python",
   "pygments_lexer": "ipython3",
   "version": "3.10.9"
  }
 },
 "nbformat": 4,
 "nbformat_minor": 5
}
