{
 "cells": [
  {
   "cell_type": "code",
   "execution_count": 2,
   "id": "5e97507f",
   "metadata": {},
   "outputs": [
    {
     "name": "stdout",
     "output_type": "stream",
     "text": [
      "** start Lotto **\n",
      "Number:  9 11 15 25 31 38 "
     ]
    }
   ],
   "source": [
    "import random\n",
    "\n",
    "def get_number(): #1~46까지의 값을 무작위로 반환하는 함수\n",
    "    return random.randrange(1, 46) \n",
    "\n",
    "lotto = [] #lotto 리스트 생성\n",
    "num = 0\n",
    "print(\"** start Lotto **\")\n",
    "\n",
    "while True:\n",
    "    num = get_number()\n",
    "    \n",
    "    if lotto.count(num) == 0: #num이 lotto안에 없을 경우\n",
    "        lotto.append(num)\n",
    "        \n",
    "    if len(lotto) >= 6: #lotto의 길이가 6 보다 크거나 같을 경우 while문 탈출\n",
    "        break\n",
    "        \n",
    "print(\"Number: \", end = \" \")\n",
    "lotto.sort() #오름차순으로 정렬\n",
    "for number in lotto: #lotto에 있는 값을 출력\n",
    "    print(number, end = ' ')"
   ]
  }
 ],
 "metadata": {
  "kernelspec": {
   "display_name": "Python 3 (ipykernel)",
   "language": "python",
   "name": "python3"
  },
  "language_info": {
   "codemirror_mode": {
    "name": "ipython",
    "version": 3
   },
   "file_extension": ".py",
   "mimetype": "text/x-python",
   "name": "python",
   "nbconvert_exporter": "python",
   "pygments_lexer": "ipython3",
   "version": "3.10.9"
  }
 },
 "nbformat": 4,
 "nbformat_minor": 5
}
