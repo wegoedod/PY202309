{
 "cells": [
  {
   "cell_type": "code",
   "execution_count": 2,
   "id": "f93861c9",
   "metadata": {},
   "outputs": [
    {
     "name": "stdout",
     "output_type": "stream",
     "text": [
      "1. current list =  [30, 10, 20, 50, 40]\n",
      "2. append(60) =  [30, 10, 20, 50, 40, 60]\n",
      "3. item after pop() =  60\n",
      "4. list after pop() =  [30, 10, 20, 50, 40]\n",
      "5. after sort() =  [10, 20, 30, 40, 50]\n",
      "6. after reverse() =  [50, 40, 30, 20, 10]\n",
      "7. index for 20 =  3\n",
      "8 after insert(2,222) =  [50, 40, 222, 30, 20, 10]\n",
      "9. after remove(2, 222) =  [50, 40, 30, 20, 10]\n",
      "10. after extend([100,200,100]) =  [50, 40, 30, 20, 10, 100, 200, 100]\n",
      "11. the number of 100 =  2\n"
     ]
    }
   ],
   "source": [
    "sample_list = [30,10,20,50,40] #리스트 생성\n",
    "print(\"1. current list = \", sample_list) #sample_list 출력\n",
    "\n",
    "sample_list.append(60) #sample_list에 60을 추가\n",
    "print(\"2. append(60) = \", sample_list) #sample_list 출력\n",
    "\n",
    "print(\"3. item after pop() = \", sample_list.pop()) #sample_list에서 마지막 값을 지우고 지운 값 출력\n",
    "print(\"4. list after pop() = \", sample_list)#sample_list 출력\n",
    "\n",
    "sample_list.sort()#sample_list 정렬(오름차순)\n",
    "print(\"5. after sort() = \", sample_list)#sample_list 출력\n",
    "\n",
    "sample_list.reverse()#sample_list 정렬(내림차순)\n",
    "print(\"6. after reverse() = \", sample_list)#sample_list 출력\n",
    "\n",
    "print(\"7. index for 20 = \", sample_list.index(20))#sample_list에서 20인 값의 인덱스 출력\n",
    "\n",
    "sample_list.insert(2, 222)#sample_list 인덱스 2 위치에 222 값 삽입\n",
    "print(\"8 after insert(2,222) = \", sample_list)#sample_list 출력\n",
    "\n",
    "sample_list.remove(222)#sample_list에서 가장 인덱스 값이 작은 222 삭제\n",
    "print(\"9. after remove(2, 222) = \", sample_list)#sample_list 출력\n",
    "\n",
    "new_list = [100,200,100]#new_list 생성\n",
    "sample_list.extend(new_list)#sample_list에 new_list 결합\n",
    "print(\"10. after extend([100,200,100]) = \", sample_list)#sample_list 출력\n",
    "\n",
    "print(\"11. the number of 100 = \", sample_list.count(100))#sample_list에 있는 100의 개수 출력\n"
   ]
  },
  {
   "cell_type": "code",
   "execution_count": 1,
   "id": "2783af91",
   "metadata": {},
   "outputs": [
    {
     "name": "stdout",
     "output_type": "stream",
     "text": [
      "Turtle bye!\n"
     ]
    }
   ],
   "source": [
    "import turtle\n",
    "t = turtle.Turtle()\n",
    "radius_list = [100,200,50]\n",
    "move = 20\n",
    "\n",
    "t.shape(\"turtle\")\n",
    "\n",
    "for i in range(0, len(radius_list)):\n",
    "    radius = radius_list[i]\n",
    "    t.circle(radius)\n",
    "    t.fd(move)\n",
    "    \n",
    "turtle.done()\n",
    "try:\n",
    "    turtle.bye()\n",
    "except:\n",
    "    print(\"Turtle bye!\")"
   ]
  },
  {
   "cell_type": "code",
   "execution_count": null,
   "id": "671c6939",
   "metadata": {},
   "outputs": [],
   "source": []
  }
 ],
 "metadata": {
  "kernelspec": {
   "display_name": "Python 3 (ipykernel)",
   "language": "python",
   "name": "python3"
  },
  "language_info": {
   "codemirror_mode": {
    "name": "ipython",
    "version": 3
   },
   "file_extension": ".py",
   "mimetype": "text/x-python",
   "name": "python",
   "nbconvert_exporter": "python",
   "pygments_lexer": "ipython3",
   "version": "3.10.9"
  }
 },
 "nbformat": 4,
 "nbformat_minor": 5
}
