{
 "cells": [
  {
   "cell_type": "code",
   "execution_count": 19,
   "id": "b0bd3217",
   "metadata": {},
   "outputs": [
    {
     "name": "stdout",
     "output_type": "stream",
     "text": [
      "파일 이름을 입력하세요(ex: task.txt): task.txt\n",
      "\n",
      "할일 관리 프로그램\n",
      "1. 할일 추가\n",
      "2. 할일 목록 표시\n",
      "3. 종료\n",
      "선택: 2\n",
      "할일 목록:\n",
      "1. 할일\n",
      "2. 일\n",
      "\n",
      "할일 관리 프로그램\n",
      "1. 할일 추가\n",
      "2. 할일 목록 표시\n",
      "3. 종료\n",
      "선택: 3\n",
      "프로그램을 종료합니다.\n"
     ]
    }
   ],
   "source": [
    "def add_task(task_list, task):  #task_list에 task 추가\n",
    "    task_list.append(task)\n",
    "    \n",
    "def display_tasks(task_list):#task_list 출력\n",
    "    if not task_list:\n",
    "        print(\"할일 목록이 비어 있습니다.\")\n",
    "    else:\n",
    "        print(\"할일 목록:\")\n",
    "    for i in range(len(task_list)):\n",
    "        task = task_list[i]\n",
    "        print(f\"{i+1}. {task}\")\n",
    "        \n",
    "def save_tasks_to_file(task_list): #task_list를 file_name파일에 저장\n",
    "    write_fp = open(file_name, \"w\", encoding=\"utf8\")\n",
    "    for task in task_list:\n",
    "        write_fp.write(task+\"\\n\")\n",
    "    write_fp.close()\n",
    "    \n",
    "def load_tasks_from_file():#사용자가 입력한 파일을 task_list\n",
    "    global task_list,file_name\n",
    "    task_list = []\n",
    "    \n",
    "    while True:\n",
    "        file_name = input(\"파일 이름을 입력하세요(ex: task.txt): \")\n",
    "        try :\n",
    "            read_fp = open(file_name, \"r\", encoding=\"utf8\")\n",
    "            lines = read_fp.readlines()\n",
    "            for line in lines:\n",
    "                task_list.append(line.strip())\n",
    "            break\n",
    "        except:\n",
    "            print(\"파일이 존재하지 않습니다.\")\n",
    "            continue\n",
    "        \n",
    "load_tasks_from_file()\n",
    "\n",
    "while True:\n",
    "    print(\"\\n할일 관리 프로그램\")\n",
    "    print(\"1. 할일 추가\")\n",
    "    print(\"2. 할일 목록 표시\")\n",
    "    print(\"3. 종료\")\n",
    "    \n",
    "    choice = input(\"선택: \")\n",
    "    \n",
    "    if choice == '1':\n",
    "        task = input(\"할일을 입력하세요: \")\n",
    "        add_task(task_list, task)\n",
    "        print(\"할일이 추가되었습니다.\")\n",
    "    elif choice == '2':\n",
    "        display_tasks(task_list)\n",
    "    elif choice == '3':\n",
    "        save_tasks_to_file(task_list)\n",
    "        print(\"프로그램을 종료합니다.\")\n",
    "        break\n",
    "    else:\n",
    "        print(\"잘못된 선택입니다. 다시 시도하세요.\")"
   ]
  }
 ],
 "metadata": {
  "kernelspec": {
   "display_name": "Python 3 (ipykernel)",
   "language": "python",
   "name": "python3"
  },
  "language_info": {
   "codemirror_mode": {
    "name": "ipython",
    "version": 3
   },
   "file_extension": ".py",
   "mimetype": "text/x-python",
   "name": "python",
   "nbconvert_exporter": "python",
   "pygments_lexer": "ipython3",
   "version": "3.10.9"
  }
 },
 "nbformat": 4,
 "nbformat_minor": 5
}
