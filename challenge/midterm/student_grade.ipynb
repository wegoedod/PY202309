{
 "cells": [
  {
   "cell_type": "code",
   "execution_count": 14,
   "id": "b5881281",
   "metadata": {},
   "outputs": [
    {
     "name": "stdout",
     "output_type": "stream",
     "text": [
      "-----학생들의 평균 점수-----\n",
      "실바의 평균 점수는 73.66666666666667입니다.\n",
      "산토스의 평균 점수는 86.93333333333334입니다.\n",
      "맥그리거의 평균 점수는 85.7입니다.\n",
      "알도의 평균 점수는 85.43333333333332입니다.\n",
      "로우지의 평균 점수는 83.10000000000001입니다.\n",
      "누네스의 평균 점수는 85.93333333333334입니다.\n"
     ]
    }
   ],
   "source": [
    "def loadData(lines,subject):\n",
    "    score = {}\n",
    "    for i in range(1,len(lines)):\n",
    "        line = lines[i].split(',')\n",
    "        score[line[0]]={f\"{subject[j]}\":f\"{line[j]}\" for j in range(1,len(line))}\n",
    "    return score\n",
    "def getAverage(score,subject):\n",
    "    print(\"-----학생들의 평균 점수-----\")\n",
    "    for i in score:\n",
    "        sum = 0.0\n",
    "        for j in score[i]:\n",
    "            sum += float(score[i][j])\n",
    "        sum /= len(subject)-1\n",
    "        print(f\"{i}의 평균 점수는 {sum}입니다.\")\n",
    "lines = open(\"students.csv\",\"r\", encoding=\"utf8\").readlines()\n",
    "subject = lines[0].split(',')\n",
    "\n",
    "# TODO 1: 학생 정보를 딕셔너리에 저장\n",
    "score = loadData(lines,subject)\n",
    "# TODO 2: 학생 별 평균 점수를 계산\n",
    "\n",
    "getAverage(score,subject)\n",
    "\n",
    "# TODO 3: 평균 점수를 코드 실행결과와 동일하게 파일로 출력 (average.txt)\n",
    "fp = open(\"./average.txt\", \"w\", encoding=\"utf8\")\n",
    "fp.write(\"-----학생들의 평균 점수-----\\n\")\n",
    "for i in score:\n",
    "        sum = 0.0\n",
    "        for j in score[i]:\n",
    "            sum += float(score[i][j])\n",
    "        sum /= len(subject)-1\n",
    "        fp.write(f\"{i}의 평균 점수는 {sum}입니다.\\n\")\n",
    "fp.close()"
   ]
  }
 ],
 "metadata": {
  "kernelspec": {
   "display_name": "Python 3 (ipykernel)",
   "language": "python",
   "name": "python3"
  },
  "language_info": {
   "codemirror_mode": {
    "name": "ipython",
    "version": 3
   },
   "file_extension": ".py",
   "mimetype": "text/x-python",
   "name": "python",
   "nbconvert_exporter": "python",
   "pygments_lexer": "ipython3",
   "version": "3.10.9"
  }
 },
 "nbformat": 4,
 "nbformat_minor": 5
}
