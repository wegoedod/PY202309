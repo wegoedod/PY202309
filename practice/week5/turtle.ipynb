{
 "cells": [
  {
   "cell_type": "code",
   "execution_count": 3,
   "id": "61093fd8",
   "metadata": {},
   "outputs": [
    {
     "name": "stdout",
     "output_type": "stream",
     "text": [
      "turtle bye!\n"
     ]
    }
   ],
   "source": [
    "import turtle\n",
    "\n",
    "screen_width, screen_height = 100, 100#변수 생성\n",
    "\n",
    "turtle.title(\"Drawing rainbow circles\")\n",
    "turtle.shape(\"turtle\")\n",
    "turtle.setup(width=screen_width+50,height=screen_height+50)#창 크기를 (screen_width+50)*(screen_height+50)으로 설정\n",
    "turtle.screensize(screen_width,screen_height)#그릴 영역을 screen_width*screen_height으로 설정\n",
    "turtle.penup()\n",
    "turtle.goto(0,-screen_height/2)#시작 위치를 0,-screen_height/2으로 옮김\n",
    "turtle.pendown()\n",
    "turtle.speed(5) #터틀 속도를 5로 설정\n",
    "\n",
    "for radius in range(1,50): #radius를 1~49까지 반복\n",
    "    if radius % 7 == 0: #radius를 7로 나누었을 때 나머지가 0\n",
    "        turtle.pencolor(\"red\")\n",
    "    elif radius % 7 == 1:#radius를 7로 나누었을 때 나머지가 1\n",
    "        turtle.pencolor(\"orange\")\n",
    "    elif radius % 7 == 2:#radius를 7로 나누었을 때 나머지가 2\n",
    "        turtle.pencolor(\"yellow\")\n",
    "    elif radius % 7 == 3:#radius를 7로 나누었을 때 나머지가 3\n",
    "        turtle.pencolor(\"green\")\n",
    "    elif radius % 7 == 4:#radius를 7로 나누었을 때 나머지가 4\n",
    "        turtle.pencolor(\"blue\")\n",
    "    elif radius % 7 == 5:#radius를 7로 나누었을 때 나머지가 5\n",
    "        turtle.pencolor(\"navyblue\")\n",
    "    elif radius % 7 == 6:#radius를 7로 나누었을 때 나머지가 6\n",
    "        turtle.pencolor(\"purple\")\n",
    "        \n",
    "    turtle.circle(radius)#반지름이 radius인 원을 그림\n",
    "turtle.done()\n",
    "\n",
    "try:\n",
    "    turtle.bye()\n",
    "except:\n",
    "    print(\"turtle bye!\")\n",
    "        "
   ]
  },
  {
   "cell_type": "code",
   "execution_count": null,
   "id": "ddad6123",
   "metadata": {},
   "outputs": [],
   "source": []
  }
 ],
 "metadata": {
  "kernelspec": {
   "display_name": "Python 3 (ipykernel)",
   "language": "python",
   "name": "python3"
  },
  "language_info": {
   "codemirror_mode": {
    "name": "ipython",
    "version": 3
   },
   "file_extension": ".py",
   "mimetype": "text/x-python",
   "name": "python",
   "nbconvert_exporter": "python",
   "pygments_lexer": "ipython3",
   "version": "3.10.9"
  }
 },
 "nbformat": 4,
 "nbformat_minor": 5
}
