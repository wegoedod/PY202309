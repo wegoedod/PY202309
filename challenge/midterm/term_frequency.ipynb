{
 "cells": [
  {
   "cell_type": "code",
   "execution_count": 13,
   "id": "fd793c0e",
   "metadata": {
    "scrolled": true
   },
   "outputs": [
    {
     "name": "stdout",
     "output_type": "stream",
     "text": [
      "-----TF dictionary-----\n",
      "{'over': 1, 'not': 1, 'that': 1, 'likes': 1, 'step': 1, 'opportunity': 1, 'is': 1, 'lies': 1, 'middle': 1, 'in': 1, 'all': 1, 'a': 3, 'thousand': 1, 'difficulty': 1, 'miles': 1, 'read': 1, 'journey': 1, 'single': 1, 'to': 1, 'begins': 1, 'glitters': 1, 'jumps': 1, 'dog': 1, 'gold': 1, 'of': 2, 'brown': 1, 'the': 3, 'she': 1, 'with': 1, 'lazy': 1, 'quick': 1, 'fox': 1, 'books': 1}\n",
      "-----Top-3 TF terms-----\n",
      "1 the 3\n",
      "2 a 3\n",
      "3 of 2\n"
     ]
    }
   ],
   "source": [
    "import operator\n",
    "sentences = [\n",
    "    \"The quick brown fox jumps over the lazy dog.\",\n",
    "    \"A journey of a thousand miles begins with a single step.\",\n",
    "    \"All that glitters is not gold.\",    \n",
    "    \"In the middle of difficulty lies opportunity.\",\n",
    "    \"She likes to read books.\"\n",
    "]\n",
    "\n",
    "\n",
    "total_terms = set()\n",
    "# TODO 1: 토큰 집합 만들기\n",
    "for i in sentences:\n",
    "    for j in i.split():\n",
    "        total_terms.add(j.lower().strip(\".\"))\n",
    "term_frequency_dict = {} # 토큰 별 단어 빈도 저장할 딕셔너리\n",
    "# TODO 2: 토큰 별 단어 빈도를 딕셔너리에 저장\n",
    "for i in total_terms:\n",
    "    term_frequency_dict[i]=0\n",
    "for i in sentences:\n",
    "    for j in i.split():\n",
    "        term_frequency_dict[j.lower().strip(\".\")] += 1\n",
    "\n",
    "\n",
    "# 토큰 빈도 출력\n",
    "print(\"-----TF dictionary-----\")\n",
    "print(term_frequency_dict)\n",
    "\n",
    "\n",
    "print(\"-----Top-3 TF terms-----\")\n",
    "# TODO 3: Top-3 토큰 빈도를 갖는 단어의 순위, 단어, 빈도 출력 코드 작성\n",
    "sorted_term_frequency_dict = sorted(term_frequency_dict.items(),key=operator.itemgetter(1))\n",
    "for i in range(3):\n",
    "    print(f\"{i+1} {sorted_term_frequency_dict[-(i+1)][0]} {sorted_term_frequency_dict[-(i+1)][1]}\")"
   ]
  }
 ],
 "metadata": {
  "kernelspec": {
   "display_name": "Python 3 (ipykernel)",
   "language": "python",
   "name": "python3"
  },
  "language_info": {
   "codemirror_mode": {
    "name": "ipython",
    "version": 3
   },
   "file_extension": ".py",
   "mimetype": "text/x-python",
   "name": "python",
   "nbconvert_exporter": "python",
   "pygments_lexer": "ipython3",
   "version": "3.10.9"
  }
 },
 "nbformat": 4,
 "nbformat_minor": 5
}
