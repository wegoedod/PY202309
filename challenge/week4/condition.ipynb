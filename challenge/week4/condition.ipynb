{
 "cells": [
  {
   "cell_type": "code",
   "execution_count": 21,
   "id": "a724ceaf",
   "metadata": {},
   "outputs": [
    {
     "name": "stdout",
     "output_type": "stream",
     "text": [
      "Is it raining? (y/n) y\n",
      "Is it windy? (y/n) t\n",
      "Incorrect  Input\n"
     ]
    }
   ],
   "source": [
    "rain = input(\"Is it raining? (y/n) \")#입력을 rain 변수에 저장\n",
    "wind = input(\"Is it windy? (y/n) \")#입력을 wind 변에 저장\n",
    "if not ((wind == 'y' or wind == 'n') and (rain == 'y' or rain == 'n')):#정확히 입력 했는지 검사\n",
    "    print(\"Incorrect  Input\")\n",
    "elif rain == 'y':#rain이 y인 경우\n",
    "    if wind == 'y':#wind는 y인 경우\n",
    "        print(\"It is too windy for an umbrella.\")\n",
    "    else:#wind는 n인 경우\n",
    "        print(\"Take an umbrella\")\n",
    "elif wind == 'y':#rain이 n이면서 wind는 y인 경우\n",
    "    print(\"Please take a coat\")\n",
    "else:#rain이 n이면서 wind는 n인 경우 = 나머지\n",
    "    print(\"Have a  nice day\")"
   ]
  },
  {
   "cell_type": "code",
   "execution_count": null,
   "id": "f9280877",
   "metadata": {},
   "outputs": [],
   "source": []
  }
 ],
 "metadata": {
  "kernelspec": {
   "display_name": "Python 3 (ipykernel)",
   "language": "python",
   "name": "python3"
  },
  "language_info": {
   "codemirror_mode": {
    "name": "ipython",
    "version": 3
   },
   "file_extension": ".py",
   "mimetype": "text/x-python",
   "name": "python",
   "nbconvert_exporter": "python",
   "pygments_lexer": "ipython3",
   "version": "3.10.9"
  }
 },
 "nbformat": 4,
 "nbformat_minor": 5
}
