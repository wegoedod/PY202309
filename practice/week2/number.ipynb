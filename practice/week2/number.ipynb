{
 "cells": [
  {
   "cell_type": "code",
   "execution_count": 1,
   "id": "76612897",
   "metadata": {},
   "outputs": [
    {
     "name": "stdout",
     "output_type": "stream",
     "text": [
      "What do you call a bear with no teeth? \n",
      "A gummy bear!\n"
     ]
    }
   ],
   "source": [
    "print(\"What do you call a bear with no teeth? \\nA gummy bear!\") #print str"
   ]
  },
  {
   "cell_type": "code",
   "execution_count": 2,
   "id": "b07b85dd",
   "metadata": {},
   "outputs": [
    {
     "name": "stdout",
     "output_type": "stream",
     "text": [
      "Enter your name: kim\n",
      "Hello kim\n"
     ]
    }
   ],
   "source": [
    "name = input(\"Enter your name: \") #store name\n",
    "print(f\"Hello {name}\") #print str with name"
   ]
  },
  {
   "cell_type": "code",
   "execution_count": 3,
   "id": "29b7c015",
   "metadata": {},
   "outputs": [
    {
     "name": "stdout",
     "output_type": "stream",
     "text": [
      "Enter your name: Jingang\n",
      "Enter your last name: Kim\n",
      "Hello Jingang Kim\n"
     ]
    }
   ],
   "source": [
    "name = input(\"Enter your name: \") #store name\n",
    "last_name = input(\"Enter your last name: \") #store last name\n",
    "print(f\"Hello {name} {last_name}\") #print str with name"
   ]
  },
  {
   "cell_type": "code",
   "execution_count": 4,
   "id": "ac62c109",
   "metadata": {},
   "outputs": [
    {
     "name": "stdout",
     "output_type": "stream",
     "text": [
      "input the first number: 3\n",
      "input the second number: 5\n",
      "3 + 5 = 8\n"
     ]
    }
   ],
   "source": [
    "num1 = int(input(\"input the first number: \")) #store user input value\n",
    "num2 = int(input(\"input the second number: \")) #store user input value\n",
    "print(f\"{num1} + {num2} = {num1+num2}\") #print num1, num2 and num1+num2"
   ]
  },
  {
   "cell_type": "code",
   "execution_count": 5,
   "id": "29b2eb56",
   "metadata": {},
   "outputs": [
    {
     "name": "stdout",
     "output_type": "stream",
     "text": [
      "Enter the number of slices of pizza you started with: 12\n",
      "How many slices have you eaten? 7\n",
      "You have 5 slicing remaining.\n"
     ]
    }
   ],
   "source": [
    "numPizza = int(input(\"Enter the number of slices of pizza you started with: \")) #store user input value\n",
    "numPizzaEaten = int(input(\"How many slices have you eaten? \")) #store user input value\n",
    "print(f\"You have {numPizza-numPizzaEaten} slicing remaining.\") #print remain pizza"
   ]
  },
  {
   "cell_type": "code",
   "execution_count": 6,
   "id": "a4d414d8",
   "metadata": {},
   "outputs": [
    {
     "name": "stdout",
     "output_type": "stream",
     "text": [
      "What is your name? KIm\n",
      "how old are you? 19\n",
      "KIm, nextbirthday you will be 20\n"
     ]
    }
   ],
   "source": [
    "name = input(\"What is your name? \") #store user input value\n",
    "age = int(input(\"how old are you? \")) #store user input value\n",
    "print(f\"{name}, nextbirthday you will be {age+1}\") #print name and age+1"
   ]
  },
  {
   "cell_type": "code",
   "execution_count": null,
   "id": "6dada945",
   "metadata": {},
   "outputs": [],
   "source": [
    "bill = int(input(\"what is the cost of the bill? \"))"
   ]
  }
 ],
 "metadata": {
  "kernelspec": {
   "display_name": "Python 3 (ipykernel)",
   "language": "python",
   "name": "python3"
  },
  "language_info": {
   "codemirror_mode": {
    "name": "ipython",
    "version": 3
   },
   "file_extension": ".py",
   "mimetype": "text/x-python",
   "name": "python",
   "nbconvert_exporter": "python",
   "pygments_lexer": "ipython3",
   "version": "3.10.9"
  }
 },
 "nbformat": 4,
 "nbformat_minor": 5
}
